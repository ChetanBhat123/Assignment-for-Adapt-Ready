{
 "cells": [
  {
   "cell_type": "markdown",
   "id": "d77baa5e-4572-478b-8896-30c69bde7617",
   "metadata": {},
   "source": [
    "#  1. Download the data from the file data source and provide possible data insights"
   ]
  },
  {
   "cell_type": "code",
   "execution_count": 45,
   "id": "dd9d32fc-0905-44e4-943e-bbfe9f7e601f",
   "metadata": {},
   "outputs": [],
   "source": [
    "import pandas as pd\n",
    "import numpy as np"
   ]
  },
  {
   "cell_type": "code",
   "execution_count": 8,
   "id": "155a5480-6bb2-4837-8f5b-2f609cf12f47",
   "metadata": {},
   "outputs": [
    {
     "name": "stderr",
     "output_type": "stream",
     "text": [
      "C:\\Users\\HP\\AppData\\Local\\Temp\\ipykernel_19652\\436779030.py:1: DtypeWarning: Columns (4,5,6,11,16) have mixed types. Specify dtype option on import or set low_memory=False.\n",
      "  data = pd.read_csv('complaints.csv')\n"
     ]
    }
   ],
   "source": [
    "data = pd.read_csv('complaints.csv')\n"
   ]
  },
  {
   "cell_type": "code",
   "execution_count": 9,
   "id": "68f54899-39aa-421c-b9a7-c19cf7620d2a",
   "metadata": {},
   "outputs": [
    {
     "data": {
      "text/html": [
       "<div>\n",
       "<style scoped>\n",
       "    .dataframe tbody tr th:only-of-type {\n",
       "        vertical-align: middle;\n",
       "    }\n",
       "\n",
       "    .dataframe tbody tr th {\n",
       "        vertical-align: top;\n",
       "    }\n",
       "\n",
       "    .dataframe thead th {\n",
       "        text-align: right;\n",
       "    }\n",
       "</style>\n",
       "<table border=\"1\" class=\"dataframe\">\n",
       "  <thead>\n",
       "    <tr style=\"text-align: right;\">\n",
       "      <th></th>\n",
       "      <th>Date received</th>\n",
       "      <th>Product</th>\n",
       "      <th>Sub-product</th>\n",
       "      <th>Issue</th>\n",
       "      <th>Sub-issue</th>\n",
       "      <th>Consumer complaint narrative</th>\n",
       "      <th>Company public response</th>\n",
       "      <th>Company</th>\n",
       "      <th>State</th>\n",
       "      <th>ZIP code</th>\n",
       "      <th>Tags</th>\n",
       "      <th>Consumer consent provided?</th>\n",
       "      <th>Submitted via</th>\n",
       "      <th>Date sent to company</th>\n",
       "      <th>Company response to consumer</th>\n",
       "      <th>Timely response?</th>\n",
       "      <th>Consumer disputed?</th>\n",
       "      <th>Complaint ID</th>\n",
       "    </tr>\n",
       "  </thead>\n",
       "  <tbody>\n",
       "    <tr>\n",
       "      <th>0</th>\n",
       "      <td>05/10/2019</td>\n",
       "      <td>Checking or savings account</td>\n",
       "      <td>Checking account</td>\n",
       "      <td>Managing an account</td>\n",
       "      <td>Problem using a debit or ATM card</td>\n",
       "      <td>NaN</td>\n",
       "      <td>NaN</td>\n",
       "      <td>NAVY FEDERAL CREDIT UNION</td>\n",
       "      <td>FL</td>\n",
       "      <td>328XX</td>\n",
       "      <td>Older American</td>\n",
       "      <td>NaN</td>\n",
       "      <td>Web</td>\n",
       "      <td>05/10/2019</td>\n",
       "      <td>In progress</td>\n",
       "      <td>Yes</td>\n",
       "      <td>NaN</td>\n",
       "      <td>3238275</td>\n",
       "    </tr>\n",
       "    <tr>\n",
       "      <th>1</th>\n",
       "      <td>05/10/2019</td>\n",
       "      <td>Checking or savings account</td>\n",
       "      <td>Other banking product or service</td>\n",
       "      <td>Managing an account</td>\n",
       "      <td>Deposits and withdrawals</td>\n",
       "      <td>NaN</td>\n",
       "      <td>NaN</td>\n",
       "      <td>BOEING EMPLOYEES CREDIT UNION</td>\n",
       "      <td>WA</td>\n",
       "      <td>98204</td>\n",
       "      <td>NaN</td>\n",
       "      <td>NaN</td>\n",
       "      <td>Referral</td>\n",
       "      <td>05/10/2019</td>\n",
       "      <td>Closed with explanation</td>\n",
       "      <td>Yes</td>\n",
       "      <td>NaN</td>\n",
       "      <td>3238228</td>\n",
       "    </tr>\n",
       "    <tr>\n",
       "      <th>2</th>\n",
       "      <td>05/10/2019</td>\n",
       "      <td>Debt collection</td>\n",
       "      <td>Payday loan debt</td>\n",
       "      <td>Communication tactics</td>\n",
       "      <td>Frequent or repeated calls</td>\n",
       "      <td>NaN</td>\n",
       "      <td>NaN</td>\n",
       "      <td>CURO Intermediate Holdings</td>\n",
       "      <td>TX</td>\n",
       "      <td>751XX</td>\n",
       "      <td>NaN</td>\n",
       "      <td>NaN</td>\n",
       "      <td>Web</td>\n",
       "      <td>05/10/2019</td>\n",
       "      <td>Closed with explanation</td>\n",
       "      <td>Yes</td>\n",
       "      <td>NaN</td>\n",
       "      <td>3237964</td>\n",
       "    </tr>\n",
       "    <tr>\n",
       "      <th>3</th>\n",
       "      <td>05/10/2019</td>\n",
       "      <td>Credit reporting, credit repair services, or o...</td>\n",
       "      <td>Credit reporting</td>\n",
       "      <td>Incorrect information on your report</td>\n",
       "      <td>Old information reappears or never goes away</td>\n",
       "      <td>NaN</td>\n",
       "      <td>NaN</td>\n",
       "      <td>Ad Astra Recovery Services Inc</td>\n",
       "      <td>LA</td>\n",
       "      <td>708XX</td>\n",
       "      <td>NaN</td>\n",
       "      <td>NaN</td>\n",
       "      <td>Web</td>\n",
       "      <td>05/10/2019</td>\n",
       "      <td>Closed with explanation</td>\n",
       "      <td>Yes</td>\n",
       "      <td>NaN</td>\n",
       "      <td>3238479</td>\n",
       "    </tr>\n",
       "    <tr>\n",
       "      <th>4</th>\n",
       "      <td>05/10/2019</td>\n",
       "      <td>Checking or savings account</td>\n",
       "      <td>Checking account</td>\n",
       "      <td>Managing an account</td>\n",
       "      <td>Banking errors</td>\n",
       "      <td>NaN</td>\n",
       "      <td>NaN</td>\n",
       "      <td>ALLY FINANCIAL INC.</td>\n",
       "      <td>AZ</td>\n",
       "      <td>85205</td>\n",
       "      <td>NaN</td>\n",
       "      <td>NaN</td>\n",
       "      <td>Postal mail</td>\n",
       "      <td>05/10/2019</td>\n",
       "      <td>In progress</td>\n",
       "      <td>Yes</td>\n",
       "      <td>NaN</td>\n",
       "      <td>3238460</td>\n",
       "    </tr>\n",
       "  </tbody>\n",
       "</table>\n",
       "</div>"
      ],
      "text/plain": [
       "  Date received                                            Product  \\\n",
       "0    05/10/2019                        Checking or savings account   \n",
       "1    05/10/2019                        Checking or savings account   \n",
       "2    05/10/2019                                    Debt collection   \n",
       "3    05/10/2019  Credit reporting, credit repair services, or o...   \n",
       "4    05/10/2019                        Checking or savings account   \n",
       "\n",
       "                        Sub-product                                 Issue  \\\n",
       "0                  Checking account                   Managing an account   \n",
       "1  Other banking product or service                   Managing an account   \n",
       "2                  Payday loan debt                 Communication tactics   \n",
       "3                  Credit reporting  Incorrect information on your report   \n",
       "4                  Checking account                   Managing an account   \n",
       "\n",
       "                                      Sub-issue Consumer complaint narrative  \\\n",
       "0             Problem using a debit or ATM card                          NaN   \n",
       "1                      Deposits and withdrawals                          NaN   \n",
       "2                    Frequent or repeated calls                          NaN   \n",
       "3  Old information reappears or never goes away                          NaN   \n",
       "4                                Banking errors                          NaN   \n",
       "\n",
       "  Company public response                         Company State ZIP code  \\\n",
       "0                     NaN       NAVY FEDERAL CREDIT UNION    FL    328XX   \n",
       "1                     NaN   BOEING EMPLOYEES CREDIT UNION    WA    98204   \n",
       "2                     NaN      CURO Intermediate Holdings    TX    751XX   \n",
       "3                     NaN  Ad Astra Recovery Services Inc    LA    708XX   \n",
       "4                     NaN             ALLY FINANCIAL INC.    AZ    85205   \n",
       "\n",
       "             Tags Consumer consent provided? Submitted via  \\\n",
       "0  Older American                        NaN           Web   \n",
       "1             NaN                        NaN      Referral   \n",
       "2             NaN                        NaN           Web   \n",
       "3             NaN                        NaN           Web   \n",
       "4             NaN                        NaN   Postal mail   \n",
       "\n",
       "  Date sent to company Company response to consumer Timely response?  \\\n",
       "0           05/10/2019                  In progress              Yes   \n",
       "1           05/10/2019      Closed with explanation              Yes   \n",
       "2           05/10/2019      Closed with explanation              Yes   \n",
       "3           05/10/2019      Closed with explanation              Yes   \n",
       "4           05/10/2019                  In progress              Yes   \n",
       "\n",
       "  Consumer disputed?  Complaint ID  \n",
       "0                NaN       3238275  \n",
       "1                NaN       3238228  \n",
       "2                NaN       3237964  \n",
       "3                NaN       3238479  \n",
       "4                NaN       3238460  "
      ]
     },
     "execution_count": 9,
     "metadata": {},
     "output_type": "execute_result"
    }
   ],
   "source": [
    "data.head()"
   ]
  },
  {
   "cell_type": "code",
   "execution_count": 10,
   "id": "8220c069-7a0e-42a3-aa27-586d27885f8d",
   "metadata": {},
   "outputs": [
    {
     "name": "stdout",
     "output_type": "stream",
     "text": [
      "(1282355, 18)\n",
      "<class 'pandas.core.frame.DataFrame'>\n",
      "RangeIndex: 1282355 entries, 0 to 1282354\n",
      "Data columns (total 18 columns):\n",
      " #   Column                        Non-Null Count    Dtype \n",
      "---  ------                        --------------    ----- \n",
      " 0   Date received                 1282355 non-null  object\n",
      " 1   Product                       1282355 non-null  object\n",
      " 2   Sub-product                   1047189 non-null  object\n",
      " 3   Issue                         1282355 non-null  object\n",
      " 4   Sub-issue                     751169 non-null   object\n",
      " 5   Consumer complaint narrative  383564 non-null   object\n",
      " 6   Company public response       449082 non-null   object\n",
      " 7   Company                       1282355 non-null  object\n",
      " 8   State                         1262955 non-null  object\n",
      " 9   ZIP code                      1167057 non-null  object\n",
      " 10  Tags                          175643 non-null   object\n",
      " 11  Consumer consent provided?    690654 non-null   object\n",
      " 12  Submitted via                 1282355 non-null  object\n",
      " 13  Date sent to company          1282355 non-null  object\n",
      " 14  Company response to consumer  1282348 non-null  object\n",
      " 15  Timely response?              1282355 non-null  object\n",
      " 16  Consumer disputed?            768501 non-null   object\n",
      " 17  Complaint ID                  1282355 non-null  int64 \n",
      "dtypes: int64(1), object(17)\n",
      "memory usage: 176.1+ MB\n"
     ]
    }
   ],
   "source": [
    "print(data.shape)\n",
    "data.info()"
   ]
  },
  {
   "cell_type": "code",
   "execution_count": 11,
   "id": "30d19054-4884-45b7-abcc-c94660342b58",
   "metadata": {},
   "outputs": [
    {
     "data": {
      "text/plain": [
       "(1282355, 17)"
      ]
     },
     "execution_count": 11,
     "metadata": {},
     "output_type": "execute_result"
    }
   ],
   "source": [
    "data = data.drop('Complaint ID',axis=1)\n",
    "data.shape"
   ]
  },
  {
   "cell_type": "code",
   "execution_count": 12,
   "id": "f3588a6e-996c-4d6c-bdc1-8e14c2ec043f",
   "metadata": {},
   "outputs": [
    {
     "data": {
      "text/plain": [
       "Consumer disputed?\n",
       "No     620123\n",
       "Yes    148378\n",
       "Name: count, dtype: int64"
      ]
     },
     "execution_count": 12,
     "metadata": {},
     "output_type": "execute_result"
    }
   ],
   "source": [
    "data['Consumer disputed?'].value_counts()"
   ]
  },
  {
   "cell_type": "code",
   "execution_count": 13,
   "id": "27652176-df7f-4976-a358-6ad3099c1dfe",
   "metadata": {},
   "outputs": [
    {
     "data": {
      "text/plain": [
       "(768501, 17)"
      ]
     },
     "execution_count": 13,
     "metadata": {},
     "output_type": "execute_result"
    }
   ],
   "source": [
    "data = data[data['Consumer disputed?'].notna()]\n",
    "data.shape"
   ]
  },
  {
   "cell_type": "code",
   "execution_count": 14,
   "id": "cd6152f1-3812-400c-afc9-566b0ad78eb7",
   "metadata": {},
   "outputs": [
    {
     "data": {
      "text/plain": [
       "Consumer disputed?\n",
       "0    620123\n",
       "1    148378\n",
       "Name: count, dtype: int64"
      ]
     },
     "execution_count": 14,
     "metadata": {},
     "output_type": "execute_result"
    }
   ],
   "source": [
    "data['Consumer disputed?'] = np.where(data['Consumer disputed?']== 'Yes', 1, 0)\n",
    "data['Consumer disputed?'].value_counts()"
   ]
  },
  {
   "cell_type": "code",
   "execution_count": 15,
   "id": "3ad78112-f821-4a21-87ee-a2d66a939a82",
   "metadata": {},
   "outputs": [
    {
     "name": "stdout",
     "output_type": "stream",
     "text": [
      "Date received : 1970 : 0\n",
      "Product : 13 : 0\n",
      "Sub-product : 50 : 235166\n",
      "Issue : 99 : 0\n",
      "Sub-issue : 61 : 455416\n",
      "Consumer complaint narrative : 160982 : 604425\n",
      "Company public response : 10 : 572792\n",
      "Company : 4290 : 0\n",
      "State : 62 : 5651\n",
      "ZIP code : 18934 : 46569\n",
      "Tags : 3 : 660542\n",
      "Consumer consent provided? : 4 : 470584\n",
      "Submitted via : 6 : 0\n",
      "Date sent to company : 2049 : 0\n",
      "Company response to consumer : 7 : 1\n",
      "Timely response? : 2 : 0\n"
     ]
    }
   ],
   "source": [
    "column_list = [a for a in data]\n",
    "# Column Name , Unique Value , Count of Nulls\n",
    "\n",
    "for col in data.select_dtypes(['object']).columns:\n",
    "    print(col,':',data[col].nunique(),':',data[col].isna().sum())"
   ]
  },
  {
   "cell_type": "markdown",
   "id": "0bac611e-c97e-44ba-a008-dd97c652503a",
   "metadata": {},
   "source": [
    "# Function to explore how much catagorical feature is affecting the target\n"
   ]
  },
  {
   "cell_type": "code",
   "execution_count": 20,
   "id": "1671927a-dcb7-463f-b2ca-776e6a0efcf9",
   "metadata": {},
   "outputs": [],
   "source": [
    "import seaborn as sns"
   ]
  },
  {
   "cell_type": "code",
   "execution_count": 21,
   "id": "cd059722-8473-487f-a2d0-4b92a1848a78",
   "metadata": {},
   "outputs": [],
   "source": [
    "def target_mean(data,feature,target,decimal=2):\n",
    "    sns.countplot(data=data, y=feature, order = data[feature].value_counts().head(10).index,)\n",
    "    return(data.groupby(feature).agg({target: \"mean\"}).sort_values(by=[target],ascending=[False]).round(decimal))"
   ]
  },
  {
   "cell_type": "code",
   "execution_count": 22,
   "id": "b754ee9d-0d7c-466f-a248-6fec600d7c1f",
   "metadata": {},
   "outputs": [
    {
     "data": {
      "text/html": [
       "<div>\n",
       "<style scoped>\n",
       "    .dataframe tbody tr th:only-of-type {\n",
       "        vertical-align: middle;\n",
       "    }\n",
       "\n",
       "    .dataframe tbody tr th {\n",
       "        vertical-align: top;\n",
       "    }\n",
       "\n",
       "    .dataframe thead th {\n",
       "        text-align: right;\n",
       "    }\n",
       "</style>\n",
       "<table border=\"1\" class=\"dataframe\">\n",
       "  <thead>\n",
       "    <tr style=\"text-align: right;\">\n",
       "      <th></th>\n",
       "      <th>Consumer disputed?</th>\n",
       "    </tr>\n",
       "    <tr>\n",
       "      <th>Company response to consumer</th>\n",
       "      <th></th>\n",
       "    </tr>\n",
       "  </thead>\n",
       "  <tbody>\n",
       "    <tr>\n",
       "      <th>Closed without relief</th>\n",
       "      <td>0.27</td>\n",
       "    </tr>\n",
       "    <tr>\n",
       "      <th>Closed with explanation</th>\n",
       "      <td>0.21</td>\n",
       "    </tr>\n",
       "    <tr>\n",
       "      <th>Closed</th>\n",
       "      <td>0.21</td>\n",
       "    </tr>\n",
       "    <tr>\n",
       "      <th>Closed with relief</th>\n",
       "      <td>0.13</td>\n",
       "    </tr>\n",
       "    <tr>\n",
       "      <th>Closed with non-monetary relief</th>\n",
       "      <td>0.12</td>\n",
       "    </tr>\n",
       "    <tr>\n",
       "      <th>Closed with monetary relief</th>\n",
       "      <td>0.11</td>\n",
       "    </tr>\n",
       "    <tr>\n",
       "      <th>Untimely response</th>\n",
       "      <td>0.00</td>\n",
       "    </tr>\n",
       "  </tbody>\n",
       "</table>\n",
       "</div>"
      ],
      "text/plain": [
       "                                 Consumer disputed?\n",
       "Company response to consumer                       \n",
       "Closed without relief                          0.27\n",
       "Closed with explanation                        0.21\n",
       "Closed                                         0.21\n",
       "Closed with relief                             0.13\n",
       "Closed with non-monetary relief                0.12\n",
       "Closed with monetary relief                    0.11\n",
       "Untimely response                              0.00"
      ]
     },
     "execution_count": 22,
     "metadata": {},
     "output_type": "execute_result"
    },
    {
     "data": {
      "image/png": "[encoded data removed]",
      "text/plain": [
       "<Figure size 640x480 with 1 Axes>"
      ]
     },
     "metadata": {},
     "output_type": "display_data"
    }
   ],
   "source": [
    "target_mean(data,'Company response to consumer','Consumer disputed?')"
   ]
  },
  {
   "cell_type": "code",
   "execution_count": 23,
   "id": "0f4f1286-d633-4951-b010-3ff50c736c8c",
   "metadata": {},
   "outputs": [],
   "source": [
    "data = data.apply(lambda x: x.fillna(x.mean()) if x.dtype.kind in 'biufc' else x.fillna('Un'))"
   ]
  },
  {
   "cell_type": "code",
   "execution_count": 24,
   "id": "523aa475-54a0-439e-abf0-9f00964c418e",
   "metadata": {},
   "outputs": [
    {
     "name": "stdout",
     "output_type": "stream",
     "text": [
      "Date received : 1970 : 0\n",
      "Product : 13 : 0\n",
      "Sub-product : 51 : 0\n",
      "Issue : 99 : 0\n",
      "Sub-issue : 62 : 0\n",
      "Consumer complaint narrative : 160983 : 0\n",
      "Company public response : 11 : 0\n",
      "Company : 4290 : 0\n",
      "State : 63 : 0\n",
      "ZIP code : 18935 : 0\n",
      "Tags : 4 : 0\n",
      "Consumer consent provided? : 5 : 0\n",
      "Submitted via : 6 : 0\n",
      "Date sent to company : 2049 : 0\n",
      "Company response to consumer : 8 : 0\n",
      "Timely response? : 2 : 0\n"
     ]
    }
   ],
   "source": [
    "for col in data.select_dtypes(['object']).columns:\n",
    "    print(col,':',data[col].nunique(),':',data[col].isna().sum())"
   ]
  },
  {
   "cell_type": "code",
   "execution_count": 25,
   "id": "890f2575-28bd-4574-a684-accab16e4d7a",
   "metadata": {},
   "outputs": [],
   "source": [
    "data['complain_length'] = data['Consumer complaint narrative'].str.count(' ') + 1"
   ]
  },
  {
   "cell_type": "code",
   "execution_count": 26,
   "id": "a88e1f56-9de9-47ea-92c2-8882cd5a26e4",
   "metadata": {},
   "outputs": [
    {
     "data": {
      "text/plain": [
       "((768501, 17), (768501,))"
      ]
     },
     "execution_count": 26,
     "metadata": {},
     "output_type": "execute_result"
    }
   ],
   "source": [
    "y_train = data['Consumer disputed?']\n",
    "x_train = data.drop('Consumer disputed?',axis=1)\n",
    "x_train.shape, y_train.shape"
   ]
  },
  {
   "cell_type": "code",
   "execution_count": 30,
   "id": "ede1e6e4-50ca-43ee-a1f7-cd1dcc971f80",
   "metadata": {},
   "outputs": [],
   "source": [
    "from sklearn.model_selection import train_test_split\n",
    "x_train1, x_train2 , y_train1, y_train2 =  train_test_split(x_train , y_train, test_size=0.25, random_state=42)"
   ]
  },
  {
   "cell_type": "code",
   "execution_count": 33,
   "id": "9315119c-768c-4dd2-a55e-7a8b42c67a0b",
   "metadata": {},
   "outputs": [],
   "source": [
    "from catboost import CatBoostClassifier, Pool\n",
    "categorical_features =  np.where(x_train.dtypes == object )[0]\n",
    "\n",
    "model = CatBoostClassifier(iterations=50)\n",
    "model.fit(x_train1, y_train1, cat_features=categorical_features,logging_level='Silent')\n",
    "test_pred = model.predict_proba(x_train2)\n",
    "\n",
    "feature_importance = model.feature_importances_\n",
    "sorted_idx = np.argsort(feature_importance)[-20:]"
   ]
  },
  {
   "cell_type": "code",
   "execution_count": null,
   "id": "e5bb2d37-7751-4685-9eb3-1583a79ae980",
   "metadata": {},
   "outputs": [],
   "source": []
  },
  {
   "cell_type": "code",
   "execution_count": 34,
   "id": "82fd15a6-a2ae-41a0-88e9-d4edebbe448d",
   "metadata": {},
   "outputs": [
    {
     "data": {
      "text/plain": [
       "0.658786955661417"
      ]
     },
     "execution_count": 34,
     "metadata": {},
     "output_type": "execute_result"
    }
   ],
   "source": [
    "from sklearn.metrics import roc_auc_score\n",
    "roc_auc_score(y_train2,test_pred[:,1])"
   ]
  },
  {
   "cell_type": "code",
   "execution_count": 35,
   "id": "a537df0d-c5ad-4dd9-b2cf-03902acc639c",
   "metadata": {},
   "outputs": [
    {
     "data": {
      "text/plain": [
       "Text(0.5, 1.0, 'Feature Importances')"
      ]
     },
     "execution_count": 35,
     "metadata": {},
     "output_type": "execute_result"
    },
    {
     "data": {
      "image/png": "[encoded data removed]",
      "text/plain": [
       "<Figure size 1200x600 with 1 Axes>"
      ]
     },
     "metadata": {},
     "output_type": "display_data"
    }
   ],
   "source": [
    "import matplotlib.pyplot as plt\n",
    "fig = plt.figure(figsize=(12, 6))\n",
    "plt.barh(range(len(sorted_idx)), feature_importance[sorted_idx], align='center')\n",
    "plt.yticks(range(len(sorted_idx)), np.array(x_train2.columns)[sorted_idx])\n",
    "plt.title('Feature Importances')"
   ]
  },
  {
   "cell_type": "code",
   "execution_count": null,
   "id": "05118dfd-2bd3-452d-97f2-dbd131664ebe",
   "metadata": {},
   "outputs": [],
   "source": []
  },
  {
   "cell_type": "code",
   "execution_count": null,
   "id": "b69c2084-8a55-4f5f-ade9-1fd5ef04eae8",
   "metadata": {},
   "outputs": [],
   "source": []
  },
  {
   "cell_type": "markdown",
   "id": "331d107a-d757-484c-951e-6466db20fecd",
   "metadata": {},
   "source": [
    "# 2. Given an unsorted array of integers, find the length of the longest continuous increasing subsequence (subarray). "
   ]
  },
  {
   "cell_type": "code",
   "execution_count": 36,
   "id": "1d67e3bd-0be0-405a-b021-561d89676180",
   "metadata": {},
   "outputs": [],
   "source": [
    "def find_length_of_LCIS(nums):\n",
    "    if not nums:\n",
    "        return 0\n",
    "\n",
    "    max_length = 1\n",
    "    current_length = 1\n",
    "\n",
    "    for i in range(1, len(nums)):\n",
    "        if nums[i] > nums[i - 1]:\n",
    "            current_length += 1\n",
    "            max_length = max(max_length, current_length)\n",
    "        else:\n",
    "            current_length = 1\n",
    "\n",
    "    return max_length"
   ]
  },
  {
   "cell_type": "code",
   "execution_count": 37,
   "id": "8e1628fc-8b6c-430a-bcef-dc7429d6e450",
   "metadata": {},
   "outputs": [],
   "source": [
    "## This function find_length_of_LCIS iterates through the array nums, keeping track of the current increasing sequence length current_length."
   ]
  },
  {
   "cell_type": "code",
   "execution_count": 38,
   "id": "af1fe5e0-cc53-4254-af4b-fad09ea77e57",
   "metadata": {},
   "outputs": [],
   "source": [
    "input1 = [1, 3, 5, 4, 7]\n",
    "input2 = [2, 2, 2, 2, 2]\n",
    "\n",
    "output1 = find_length_of_LCIS(input1)\n",
    "output2 = find_length_of_LCIS(input2)\n"
   ]
  },
  {
   "cell_type": "code",
   "execution_count": 39,
   "id": "9f88bcb6-7499-4a27-9acc-4626eda707b8",
   "metadata": {},
   "outputs": [
    {
     "data": {
      "text/plain": [
       "3"
      ]
     },
     "execution_count": 39,
     "metadata": {},
     "output_type": "execute_result"
    }
   ],
   "source": [
    "output1"
   ]
  },
  {
   "cell_type": "code",
   "execution_count": 40,
   "id": "24cdaf4f-9e30-48c1-8e4e-aa5f40717625",
   "metadata": {},
   "outputs": [
    {
     "data": {
      "text/plain": [
       "1"
      ]
     },
     "execution_count": 40,
     "metadata": {},
     "output_type": "execute_result"
    }
   ],
   "source": [
    "output2"
   ]
  },
  {
   "cell_type": "markdown",
   "id": "bda8388b-3715-4dc6-b74d-863b73b82814",
   "metadata": {},
   "source": [
    "##  3. Given a list of non negative integers, arrange them such that they form the largest number.\n"
   ]
  },
  {
   "cell_type": "code",
   "execution_count": 41,
   "id": "f2256464-cef9-4a50-a60a-206e9577927b",
   "metadata": {},
   "outputs": [],
   "source": [
    "def largest_number(nums):\n",
    "    # Custom sorting key function\n",
    "    def custom_sort_key(num):\n",
    "        num_str = str(num)\n",
    "        return num_str + num_str[::-1]  # Concatenate with its reverse to compare both orders\n",
    "\n",
    "    # Sort the numbers using the custom sorting key\n",
    "    sorted_nums = sorted(nums, key=custom_sort_key, reverse=True)\n",
    "\n",
    "    # Join the sorted numbers to form the largest number\n",
    "    largest_num = ''.join(map(str, sorted_nums))\n",
    "\n",
    "    # If the largest number is \"0\", return \"0\"\n",
    "    # Otherwise, return the largest number\n",
    "    return largest_num if largest_num[0] != '0' else '0'\n"
   ]
  },
  {
   "cell_type": "code",
   "execution_count": 42,
   "id": "f8248308-ae4f-48fd-b527-65f3fa8c688e",
   "metadata": {},
   "outputs": [],
   "source": [
    "input1 = [10, 2]\n",
    "input2 = [3, 30, 34, 5, 9]\n",
    "\n",
    "output1 = largest_number(input1)\n",
    "output2 = largest_number(input2)\n"
   ]
  },
  {
   "cell_type": "code",
   "execution_count": 43,
   "id": "dd20de85-0f11-4afd-9fad-97fe1a67bb60",
   "metadata": {},
   "outputs": [
    {
     "name": "stdout",
     "output_type": "stream",
     "text": [
      "Output 1: 210\n",
      "Output 2: 9534330\n"
     ]
    }
   ],
   "source": [
    "print(\"Output 1:\", output1)  \n",
    "print(\"Output 2:\", output2)  "
   ]
  },
  {
   "cell_type": "markdown",
   "id": "601df976-a545-4f3a-b394-b18d6d105b51",
   "metadata": {},
   "source": []
  },
  {
   "cell_type": "markdown",
   "id": "7bab5904-0344-4ff4-a3e1-b0868309a198",
   "metadata": {},
   "source": [
    "# 4. Store all the \"servlet-name\", and \"servlet-class\" to a csv file from the attached sample_json.json file using Python"
   ]
  },
  {
   "cell_type": "code",
   "execution_count": 44,
   "id": "7e8fa2e6-8ee7-4c73-bcbc-94837255b7d0",
   "metadata": {},
   "outputs": [
    {
     "name": "stdout",
     "output_type": "stream",
     "text": [
      "Data has been successfully written to servlet_data.csv\n"
     ]
    }
   ],
   "source": [
    "import json\n",
    "import csv\n",
    "\n",
    "# Read the JSON file\n",
    "with open('C:\\\\Users\\\\HP\\\\Downloads\\\\sample_json.json', 'r') as file:\n",
    "    data = json.load(file)\n",
    "\n",
    "# Extract \"servlet-name\" and \"servlet-class\" pairs\n",
    "servlet_data = [(servlet['servlet-name'], servlet['servlet-class']) for servlet in data['web-app']['servlet']]\n",
    "\n",
    "# Write to CSV file\n",
    "with open('servlet_data.csv', 'w', newline='') as csvfile:\n",
    "    fieldnames = ['servlet-name', 'servlet-class']\n",
    "    writer = csv.DictWriter(csvfile, fieldnames=fieldnames)\n",
    "\n",
    "    writer.writeheader()\n",
    "    for servlet_name, servlet_class in servlet_data:\n",
    "        writer.writerow({'servlet-name': servlet_name, 'servlet-class': servlet_class})\n",
    "\n",
    "print(\"Data has been successfully written to servlet_data.csv\")\n"
   ]
  },
  {
   "cell_type": "code",
   "execution_count": null,
   "id": "60cf3647-60ea-481c-99b7-69ab8e1e8f9c",
   "metadata": {},
   "outputs": [],
   "source": []
  }
 ],
 "metadata": {
  "kernelspec": {
   "display_name": "Python 3 (ipykernel)",
   "language": "python",
   "name": "python3"
  },
  "language_info": {
   "codemirror_mode": {
    "name": "ipython",
    "version": 3
   },
   "file_extension": ".py",
   "mimetype": "text/x-python",
   "name": "python",
   "nbconvert_exporter": "python",
   "pygments_lexer": "ipython3",
   "version": "3.12.3"
  }
 },
 "nbformat": 4,
 "nbformat_minor": 5
}
